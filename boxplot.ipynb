{
 "cells": [
  {
   "cell_type": "markdown",
   "id": "29be2398",
   "metadata": {},
   "source": [
    "# Analisando os resultados com o Boxplot"
   ]
  },
  {
   "cell_type": "markdown",
   "id": "7d867989",
   "metadata": {},
   "source": [
    "# Boxplot único"
   ]
  },
  {
   "cell_type": "markdown",
   "id": "319bfc35",
   "metadata": {},
   "source": [
    "https://fernandafperes.com.br/blog/interpretacao-boxplot/"
   ]
  },
  {
   "cell_type": "markdown",
   "id": "d7ae1213",
   "metadata": {},
   "source": [
    "Pré-requisitos: numpy, pandas e seaborn"
   ]
  },
  {
   "cell_type": "code",
   "execution_count": 1,
   "id": "3e04f763",
   "metadata": {},
   "outputs": [],
   "source": [
    "import numpy as np\n",
    "import seaborn as sns\n",
    "import pandas as pd\n",
    "\n",
    "sns.set_theme(style=\"ticks\", palette=\"pastel\")\n",
    "sns.set_style(\"ticks\")"
   ]
  },
  {
   "cell_type": "code",
   "execution_count": 2,
   "id": "ac857f2a",
   "metadata": {},
   "outputs": [],
   "source": [
    "results = np.loadtxt(\"resultados_finais.txt\")"
   ]
  },
  {
   "cell_type": "code",
   "execution_count": 4,
   "id": "754b1d1a",
   "metadata": {},
   "outputs": [
    {
     "data": {
      "text/plain": [
       "array([295., 288., 148., 233., 294., 290., 172., 290., 294., 295.])"
      ]
     },
     "execution_count": 4,
     "metadata": {},
     "output_type": "execute_result"
    }
   ],
   "source": [
    "results"
   ]
  },
  {
   "cell_type": "code",
   "execution_count": 7,
   "id": "26910131",
   "metadata": {},
   "outputs": [],
   "source": [
    "resultados = results.tolist()\n",
    "algoritmo  = ['Hill Climbing'] * len(resultados)\n",
    "\n",
    "df_result = pd.DataFrame({'fitness': resultados, 'algoritmo' : algoritmo})"
   ]
  },
  {
   "cell_type": "code",
   "execution_count": 8,
   "id": "f79bdd80",
   "metadata": {},
   "outputs": [
    {
     "data": {
      "application/vnd.microsoft.datawrangler.viewer.v0+json": {
       "columns": [
        {
         "name": "index",
         "rawType": "int64",
         "type": "integer"
        },
        {
         "name": "fitness",
         "rawType": "float64",
         "type": "float"
        },
        {
         "name": "algoritmo",
         "rawType": "object",
         "type": "string"
        }
       ],
       "ref": "ac2af5c2-1a48-42be-a3ea-48821a4a81d5",
       "rows": [
        [
         "0",
         "295.0",
         "Hill Climbing"
        ],
        [
         "1",
         "288.0",
         "Hill Climbing"
        ],
        [
         "2",
         "148.0",
         "Hill Climbing"
        ],
        [
         "3",
         "233.0",
         "Hill Climbing"
        ],
        [
         "4",
         "294.0",
         "Hill Climbing"
        ],
        [
         "5",
         "290.0",
         "Hill Climbing"
        ],
        [
         "6",
         "172.0",
         "Hill Climbing"
        ],
        [
         "7",
         "290.0",
         "Hill Climbing"
        ],
        [
         "8",
         "294.0",
         "Hill Climbing"
        ],
        [
         "9",
         "295.0",
         "Hill Climbing"
        ]
       ],
       "shape": {
        "columns": 2,
        "rows": 10
       }
      },
      "text/html": [
       "<div>\n",
       "<style scoped>\n",
       "    .dataframe tbody tr th:only-of-type {\n",
       "        vertical-align: middle;\n",
       "    }\n",
       "\n",
       "    .dataframe tbody tr th {\n",
       "        vertical-align: top;\n",
       "    }\n",
       "\n",
       "    .dataframe thead th {\n",
       "        text-align: right;\n",
       "    }\n",
       "</style>\n",
       "<table border=\"1\" class=\"dataframe\">\n",
       "  <thead>\n",
       "    <tr style=\"text-align: right;\">\n",
       "      <th></th>\n",
       "      <th>fitness</th>\n",
       "      <th>algoritmo</th>\n",
       "    </tr>\n",
       "  </thead>\n",
       "  <tbody>\n",
       "    <tr>\n",
       "      <th>0</th>\n",
       "      <td>295.0</td>\n",
       "      <td>Hill Climbing</td>\n",
       "    </tr>\n",
       "    <tr>\n",
       "      <th>1</th>\n",
       "      <td>288.0</td>\n",
       "      <td>Hill Climbing</td>\n",
       "    </tr>\n",
       "    <tr>\n",
       "      <th>2</th>\n",
       "      <td>148.0</td>\n",
       "      <td>Hill Climbing</td>\n",
       "    </tr>\n",
       "    <tr>\n",
       "      <th>3</th>\n",
       "      <td>233.0</td>\n",
       "      <td>Hill Climbing</td>\n",
       "    </tr>\n",
       "    <tr>\n",
       "      <th>4</th>\n",
       "      <td>294.0</td>\n",
       "      <td>Hill Climbing</td>\n",
       "    </tr>\n",
       "    <tr>\n",
       "      <th>5</th>\n",
       "      <td>290.0</td>\n",
       "      <td>Hill Climbing</td>\n",
       "    </tr>\n",
       "    <tr>\n",
       "      <th>6</th>\n",
       "      <td>172.0</td>\n",
       "      <td>Hill Climbing</td>\n",
       "    </tr>\n",
       "    <tr>\n",
       "      <th>7</th>\n",
       "      <td>290.0</td>\n",
       "      <td>Hill Climbing</td>\n",
       "    </tr>\n",
       "    <tr>\n",
       "      <th>8</th>\n",
       "      <td>294.0</td>\n",
       "      <td>Hill Climbing</td>\n",
       "    </tr>\n",
       "    <tr>\n",
       "      <th>9</th>\n",
       "      <td>295.0</td>\n",
       "      <td>Hill Climbing</td>\n",
       "    </tr>\n",
       "  </tbody>\n",
       "</table>\n",
       "</div>"
      ],
      "text/plain": [
       "   fitness      algoritmo\n",
       "0    295.0  Hill Climbing\n",
       "1    288.0  Hill Climbing\n",
       "2    148.0  Hill Climbing\n",
       "3    233.0  Hill Climbing\n",
       "4    294.0  Hill Climbing\n",
       "5    290.0  Hill Climbing\n",
       "6    172.0  Hill Climbing\n",
       "7    290.0  Hill Climbing\n",
       "8    294.0  Hill Climbing\n",
       "9    295.0  Hill Climbing"
      ]
     },
     "execution_count": 8,
     "metadata": {},
     "output_type": "execute_result"
    }
   ],
   "source": [
    "df_result"
   ]
  },
  {
   "cell_type": "code",
   "execution_count": 9,
   "id": "4e78a347",
   "metadata": {},
   "outputs": [
    {
     "data": {
      "text/plain": [
       "<Axes: xlabel='algoritmo', ylabel='fitness'>"
      ]
     },
     "execution_count": 9,
     "metadata": {},
     "output_type": "execute_result"
    },
    {
     "data": {
      "image/png": "[encoded data removed]",
      "text/plain": [
       "<Figure size 640x480 with 1 Axes>"
      ]
     },
     "metadata": {},
     "output_type": "display_data"
    }
   ],
   "source": [
    "sns.boxplot(df_result, x=\"algoritmo\", y = 'fitness')"
   ]
  },
  {
   "cell_type": "code",
   "execution_count": 10,
   "id": "7d4cc157",
   "metadata": {},
   "outputs": [
    {
     "data": {
      "text/plain": [
       "<Axes: xlabel='algoritmo', ylabel='fitness'>"
      ]
     },
     "execution_count": 10,
     "metadata": {},
     "output_type": "execute_result"
    },
    {
     "data": {
      "image/png": "[encoded data removed]",
      "text/plain": [
       "<Figure size 640x480 with 1 Axes>"
      ]
     },
     "metadata": {},
     "output_type": "display_data"
    }
   ],
   "source": [
    "sns.boxplot(df_result, x=\"algoritmo\", y = 'fitness')\n",
    "sns.swarmplot(df_result, x=\"algoritmo\", y = 'fitness')"
   ]
  },
  {
   "cell_type": "markdown",
   "id": "5890228d",
   "metadata": {},
   "source": [
    "# Analisando mais de um algoritmo"
   ]
  },
  {
   "cell_type": "code",
   "execution_count": 14,
   "id": "9b8e1305",
   "metadata": {},
   "outputs": [],
   "source": [
    "resultados2 = np.loadtxt(\"resultados_finais2.txt\")"
   ]
  },
  {
   "cell_type": "code",
   "execution_count": 15,
   "id": "48033481",
   "metadata": {},
   "outputs": [],
   "source": [
    "algoritmo2  = ['Busca Exaustiva'] * len(resultados2)\n",
    "\n",
    "df_result2 = pd.DataFrame({'fitness': resultados2, 'algoritmo' : algoritmo2})"
   ]
  },
  {
   "cell_type": "code",
   "execution_count": 26,
   "id": "4099730f",
   "metadata": {},
   "outputs": [],
   "source": [
    "df_final = pd.concat([df_result, df_result2])"
   ]
  },
  {
   "cell_type": "code",
   "execution_count": 29,
   "id": "c56888bb",
   "metadata": {},
   "outputs": [
    {
     "data": {
      "application/vnd.microsoft.datawrangler.viewer.v0+json": {
       "columns": [
        {
         "name": "index",
         "rawType": "int64",
         "type": "integer"
        },
        {
         "name": "fitness",
         "rawType": "float64",
         "type": "float"
        },
        {
         "name": "algoritmo",
         "rawType": "object",
         "type": "string"
        }
       ],
       "ref": "8acd7a35-814b-4c0d-a446-f0313b261357",
       "rows": [
        [
         "0",
         "295.0",
         "Hill Climbing"
        ],
        [
         "1",
         "288.0",
         "Hill Climbing"
        ],
        [
         "2",
         "148.0",
         "Hill Climbing"
        ],
        [
         "3",
         "233.0",
         "Hill Climbing"
        ],
        [
         "4",
         "294.0",
         "Hill Climbing"
        ],
        [
         "5",
         "290.0",
         "Hill Climbing"
        ],
        [
         "6",
         "172.0",
         "Hill Climbing"
        ],
        [
         "7",
         "290.0",
         "Hill Climbing"
        ],
        [
         "8",
         "294.0",
         "Hill Climbing"
        ],
        [
         "9",
         "295.0",
         "Hill Climbing"
        ],
        [
         "10",
         "195.0",
         "Busca Exaustiva"
        ],
        [
         "11",
         "188.0",
         "Busca Exaustiva"
        ],
        [
         "12",
         "148.0",
         "Busca Exaustiva"
        ],
        [
         "13",
         "133.0",
         "Busca Exaustiva"
        ],
        [
         "14",
         "191.0",
         "Busca Exaustiva"
        ],
        [
         "15",
         "190.0",
         "Busca Exaustiva"
        ],
        [
         "16",
         "172.0",
         "Busca Exaustiva"
        ],
        [
         "17",
         "190.0",
         "Busca Exaustiva"
        ],
        [
         "18",
         "194.0",
         "Busca Exaustiva"
        ],
        [
         "19",
         "195.0",
         "Busca Exaustiva"
        ]
       ],
       "shape": {
        "columns": 2,
        "rows": 20
       }
      },
      "text/html": [
       "<div>\n",
       "<style scoped>\n",
       "    .dataframe tbody tr th:only-of-type {\n",
       "        vertical-align: middle;\n",
       "    }\n",
       "\n",
       "    .dataframe tbody tr th {\n",
       "        vertical-align: top;\n",
       "    }\n",
       "\n",
       "    .dataframe thead th {\n",
       "        text-align: right;\n",
       "    }\n",
       "</style>\n",
       "<table border=\"1\" class=\"dataframe\">\n",
       "  <thead>\n",
       "    <tr style=\"text-align: right;\">\n",
       "      <th></th>\n",
       "      <th>fitness</th>\n",
       "      <th>algoritmo</th>\n",
       "    </tr>\n",
       "  </thead>\n",
       "  <tbody>\n",
       "    <tr>\n",
       "      <th>0</th>\n",
       "      <td>295.0</td>\n",
       "      <td>Hill Climbing</td>\n",
       "    </tr>\n",
       "    <tr>\n",
       "      <th>1</th>\n",
       "      <td>288.0</td>\n",
       "      <td>Hill Climbing</td>\n",
       "    </tr>\n",
       "    <tr>\n",
       "      <th>2</th>\n",
       "      <td>148.0</td>\n",
       "      <td>Hill Climbing</td>\n",
       "    </tr>\n",
       "    <tr>\n",
       "      <th>3</th>\n",
       "      <td>233.0</td>\n",
       "      <td>Hill Climbing</td>\n",
       "    </tr>\n",
       "    <tr>\n",
       "      <th>4</th>\n",
       "      <td>294.0</td>\n",
       "      <td>Hill Climbing</td>\n",
       "    </tr>\n",
       "    <tr>\n",
       "      <th>5</th>\n",
       "      <td>290.0</td>\n",
       "      <td>Hill Climbing</td>\n",
       "    </tr>\n",
       "    <tr>\n",
       "      <th>6</th>\n",
       "      <td>172.0</td>\n",
       "      <td>Hill Climbing</td>\n",
       "    </tr>\n",
       "    <tr>\n",
       "      <th>7</th>\n",
       "      <td>290.0</td>\n",
       "      <td>Hill Climbing</td>\n",
       "    </tr>\n",
       "    <tr>\n",
       "      <th>8</th>\n",
       "      <td>294.0</td>\n",
       "      <td>Hill Climbing</td>\n",
       "    </tr>\n",
       "    <tr>\n",
       "      <th>9</th>\n",
       "      <td>295.0</td>\n",
       "      <td>Hill Climbing</td>\n",
       "    </tr>\n",
       "    <tr>\n",
       "      <th>10</th>\n",
       "      <td>195.0</td>\n",
       "      <td>Busca Exaustiva</td>\n",
       "    </tr>\n",
       "    <tr>\n",
       "      <th>11</th>\n",
       "      <td>188.0</td>\n",
       "      <td>Busca Exaustiva</td>\n",
       "    </tr>\n",
       "    <tr>\n",
       "      <th>12</th>\n",
       "      <td>148.0</td>\n",
       "      <td>Busca Exaustiva</td>\n",
       "    </tr>\n",
       "    <tr>\n",
       "      <th>13</th>\n",
       "      <td>133.0</td>\n",
       "      <td>Busca Exaustiva</td>\n",
       "    </tr>\n",
       "    <tr>\n",
       "      <th>14</th>\n",
       "      <td>191.0</td>\n",
       "      <td>Busca Exaustiva</td>\n",
       "    </tr>\n",
       "    <tr>\n",
       "      <th>15</th>\n",
       "      <td>190.0</td>\n",
       "      <td>Busca Exaustiva</td>\n",
       "    </tr>\n",
       "    <tr>\n",
       "      <th>16</th>\n",
       "      <td>172.0</td>\n",
       "      <td>Busca Exaustiva</td>\n",
       "    </tr>\n",
       "    <tr>\n",
       "      <th>17</th>\n",
       "      <td>190.0</td>\n",
       "      <td>Busca Exaustiva</td>\n",
       "    </tr>\n",
       "    <tr>\n",
       "      <th>18</th>\n",
       "      <td>194.0</td>\n",
       "      <td>Busca Exaustiva</td>\n",
       "    </tr>\n",
       "    <tr>\n",
       "      <th>19</th>\n",
       "      <td>195.0</td>\n",
       "      <td>Busca Exaustiva</td>\n",
       "    </tr>\n",
       "  </tbody>\n",
       "</table>\n",
       "</div>"
      ],
      "text/plain": [
       "    fitness        algoritmo\n",
       "0     295.0    Hill Climbing\n",
       "1     288.0    Hill Climbing\n",
       "2     148.0    Hill Climbing\n",
       "3     233.0    Hill Climbing\n",
       "4     294.0    Hill Climbing\n",
       "5     290.0    Hill Climbing\n",
       "6     172.0    Hill Climbing\n",
       "7     290.0    Hill Climbing\n",
       "8     294.0    Hill Climbing\n",
       "9     295.0    Hill Climbing\n",
       "10    195.0  Busca Exaustiva\n",
       "11    188.0  Busca Exaustiva\n",
       "12    148.0  Busca Exaustiva\n",
       "13    133.0  Busca Exaustiva\n",
       "14    191.0  Busca Exaustiva\n",
       "15    190.0  Busca Exaustiva\n",
       "16    172.0  Busca Exaustiva\n",
       "17    190.0  Busca Exaustiva\n",
       "18    194.0  Busca Exaustiva\n",
       "19    195.0  Busca Exaustiva"
      ]
     },
     "execution_count": 29,
     "metadata": {},
     "output_type": "execute_result"
    }
   ],
   "source": [
    "df_final"
   ]
  },
  {
   "cell_type": "code",
   "execution_count": 28,
   "id": "d04baa00",
   "metadata": {},
   "outputs": [
    {
     "data": {
      "application/vnd.microsoft.datawrangler.viewer.v0+json": {
       "columns": [
        {
         "name": "index",
         "rawType": "int64",
         "type": "integer"
        },
        {
         "name": "fitness",
         "rawType": "float64",
         "type": "float"
        },
        {
         "name": "algoritmo",
         "rawType": "object",
         "type": "string"
        }
       ],
       "ref": "a6f6bdfc-eef6-41a8-a597-8c8dfd594843",
       "rows": [
        [
         "0",
         "295.0",
         "Hill Climbing"
        ],
        [
         "1",
         "288.0",
         "Hill Climbing"
        ],
        [
         "2",
         "148.0",
         "Hill Climbing"
        ],
        [
         "3",
         "233.0",
         "Hill Climbing"
        ],
        [
         "4",
         "294.0",
         "Hill Climbing"
        ],
        [
         "5",
         "290.0",
         "Hill Climbing"
        ],
        [
         "6",
         "172.0",
         "Hill Climbing"
        ],
        [
         "7",
         "290.0",
         "Hill Climbing"
        ],
        [
         "8",
         "294.0",
         "Hill Climbing"
        ],
        [
         "9",
         "295.0",
         "Hill Climbing"
        ],
        [
         "10",
         "195.0",
         "Busca Exaustiva"
        ],
        [
         "11",
         "188.0",
         "Busca Exaustiva"
        ],
        [
         "12",
         "148.0",
         "Busca Exaustiva"
        ],
        [
         "13",
         "133.0",
         "Busca Exaustiva"
        ],
        [
         "14",
         "191.0",
         "Busca Exaustiva"
        ],
        [
         "15",
         "190.0",
         "Busca Exaustiva"
        ],
        [
         "16",
         "172.0",
         "Busca Exaustiva"
        ],
        [
         "17",
         "190.0",
         "Busca Exaustiva"
        ],
        [
         "18",
         "194.0",
         "Busca Exaustiva"
        ],
        [
         "19",
         "195.0",
         "Busca Exaustiva"
        ]
       ],
       "shape": {
        "columns": 2,
        "rows": 20
       }
      },
      "text/html": [
       "<div>\n",
       "<style scoped>\n",
       "    .dataframe tbody tr th:only-of-type {\n",
       "        vertical-align: middle;\n",
       "    }\n",
       "\n",
       "    .dataframe tbody tr th {\n",
       "        vertical-align: top;\n",
       "    }\n",
       "\n",
       "    .dataframe thead th {\n",
       "        text-align: right;\n",
       "    }\n",
       "</style>\n",
       "<table border=\"1\" class=\"dataframe\">\n",
       "  <thead>\n",
       "    <tr style=\"text-align: right;\">\n",
       "      <th></th>\n",
       "      <th>fitness</th>\n",
       "      <th>algoritmo</th>\n",
       "    </tr>\n",
       "  </thead>\n",
       "  <tbody>\n",
       "    <tr>\n",
       "      <th>0</th>\n",
       "      <td>295.0</td>\n",
       "      <td>Hill Climbing</td>\n",
       "    </tr>\n",
       "    <tr>\n",
       "      <th>1</th>\n",
       "      <td>288.0</td>\n",
       "      <td>Hill Climbing</td>\n",
       "    </tr>\n",
       "    <tr>\n",
       "      <th>2</th>\n",
       "      <td>148.0</td>\n",
       "      <td>Hill Climbing</td>\n",
       "    </tr>\n",
       "    <tr>\n",
       "      <th>3</th>\n",
       "      <td>233.0</td>\n",
       "      <td>Hill Climbing</td>\n",
       "    </tr>\n",
       "    <tr>\n",
       "      <th>4</th>\n",
       "      <td>294.0</td>\n",
       "      <td>Hill Climbing</td>\n",
       "    </tr>\n",
       "    <tr>\n",
       "      <th>5</th>\n",
       "      <td>290.0</td>\n",
       "      <td>Hill Climbing</td>\n",
       "    </tr>\n",
       "    <tr>\n",
       "      <th>6</th>\n",
       "      <td>172.0</td>\n",
       "      <td>Hill Climbing</td>\n",
       "    </tr>\n",
       "    <tr>\n",
       "      <th>7</th>\n",
       "      <td>290.0</td>\n",
       "      <td>Hill Climbing</td>\n",
       "    </tr>\n",
       "    <tr>\n",
       "      <th>8</th>\n",
       "      <td>294.0</td>\n",
       "      <td>Hill Climbing</td>\n",
       "    </tr>\n",
       "    <tr>\n",
       "      <th>9</th>\n",
       "      <td>295.0</td>\n",
       "      <td>Hill Climbing</td>\n",
       "    </tr>\n",
       "    <tr>\n",
       "      <th>10</th>\n",
       "      <td>195.0</td>\n",
       "      <td>Busca Exaustiva</td>\n",
       "    </tr>\n",
       "    <tr>\n",
       "      <th>11</th>\n",
       "      <td>188.0</td>\n",
       "      <td>Busca Exaustiva</td>\n",
       "    </tr>\n",
       "    <tr>\n",
       "      <th>12</th>\n",
       "      <td>148.0</td>\n",
       "      <td>Busca Exaustiva</td>\n",
       "    </tr>\n",
       "    <tr>\n",
       "      <th>13</th>\n",
       "      <td>133.0</td>\n",
       "      <td>Busca Exaustiva</td>\n",
       "    </tr>\n",
       "    <tr>\n",
       "      <th>14</th>\n",
       "      <td>191.0</td>\n",
       "      <td>Busca Exaustiva</td>\n",
       "    </tr>\n",
       "    <tr>\n",
       "      <th>15</th>\n",
       "      <td>190.0</td>\n",
       "      <td>Busca Exaustiva</td>\n",
       "    </tr>\n",
       "    <tr>\n",
       "      <th>16</th>\n",
       "      <td>172.0</td>\n",
       "      <td>Busca Exaustiva</td>\n",
       "    </tr>\n",
       "    <tr>\n",
       "      <th>17</th>\n",
       "      <td>190.0</td>\n",
       "      <td>Busca Exaustiva</td>\n",
       "    </tr>\n",
       "    <tr>\n",
       "      <th>18</th>\n",
       "      <td>194.0</td>\n",
       "      <td>Busca Exaustiva</td>\n",
       "    </tr>\n",
       "    <tr>\n",
       "      <th>19</th>\n",
       "      <td>195.0</td>\n",
       "      <td>Busca Exaustiva</td>\n",
       "    </tr>\n",
       "  </tbody>\n",
       "</table>\n",
       "</div>"
      ],
      "text/plain": [
       "    fitness        algoritmo\n",
       "0     295.0    Hill Climbing\n",
       "1     288.0    Hill Climbing\n",
       "2     148.0    Hill Climbing\n",
       "3     233.0    Hill Climbing\n",
       "4     294.0    Hill Climbing\n",
       "5     290.0    Hill Climbing\n",
       "6     172.0    Hill Climbing\n",
       "7     290.0    Hill Climbing\n",
       "8     294.0    Hill Climbing\n",
       "9     295.0    Hill Climbing\n",
       "10    195.0  Busca Exaustiva\n",
       "11    188.0  Busca Exaustiva\n",
       "12    148.0  Busca Exaustiva\n",
       "13    133.0  Busca Exaustiva\n",
       "14    191.0  Busca Exaustiva\n",
       "15    190.0  Busca Exaustiva\n",
       "16    172.0  Busca Exaustiva\n",
       "17    190.0  Busca Exaustiva\n",
       "18    194.0  Busca Exaustiva\n",
       "19    195.0  Busca Exaustiva"
      ]
     },
     "execution_count": 28,
     "metadata": {},
     "output_type": "execute_result"
    }
   ],
   "source": [
    "df_final = df_final.reset_index(drop=True)\n",
    "df_final"
   ]
  },
  {
   "cell_type": "code",
   "execution_count": 32,
   "id": "7f164add",
   "metadata": {},
   "outputs": [
    {
     "data": {
      "text/plain": [
       "<Axes: xlabel='algoritmo', ylabel='fitness'>"
      ]
     },
     "execution_count": 32,
     "metadata": {},
     "output_type": "execute_result"
    },
    {
     "data": {
      "image/png": "[encoded data removed]",
      "text/plain": [
       "<Figure size 640x480 with 1 Axes>"
      ]
     },
     "metadata": {},
     "output_type": "display_data"
    }
   ],
   "source": [
    "sns.boxplot(df_final, x=\"algoritmo\", y = 'fitness', hue = \"algoritmo\")\n",
    "sns.swarmplot(df_final, x=\"algoritmo\", y = 'fitness', hue = \"algoritmo\")"
   ]
  }
 ],
 "metadata": {
  "kernelspec": {
   "display_name": "venv",
   "language": "python",
   "name": "python3"
  },
  "language_info": {
   "codemirror_mode": {
    "name": "ipython",
    "version": 3
   },
   "file_extension": ".py",
   "mimetype": "text/x-python",
   "name": "python",
   "nbconvert_exporter": "python",
   "pygments_lexer": "ipython3",
   "version": "3.10.12"
  }
 },
 "nbformat": 4,
 "nbformat_minor": 5
}
